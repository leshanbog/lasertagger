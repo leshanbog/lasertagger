{
 "cells": [
  {
   "cell_type": "code",
   "execution_count": 1,
   "metadata": {},
   "outputs": [],
   "source": [
    "import os\n",
    "import pandas as pd\n",
    "from rouge import Rouge\n",
    "import nltk\n",
    "import random\n",
    "import matplotlib.pyplot as plt\n",
    "%matplotlib inline"
   ]
  },
  {
   "cell_type": "code",
   "execution_count": 2,
   "metadata": {},
   "outputs": [],
   "source": [
    "data = pd.read_csv(\"C:\\\\Users\\\\leshanbog\\\\Documents\\\\GitHub\\\\lasertagger\\\\model\\\\ria_test_pred.tsv\", sep='\\t', names=['text', 'pred', 'true'])\n",
    "data = data.dropna()"
   ]
  },
  {
   "cell_type": "code",
   "execution_count": 3,
   "metadata": {},
   "outputs": [
    {
     "data": {
      "text/plain": [
       "(4266, 3)"
      ]
     },
     "execution_count": 3,
     "metadata": {},
     "output_type": "execute_result"
    }
   ],
   "source": [
    "data.shape"
   ]
  },
  {
   "cell_type": "code",
   "execution_count": 4,
   "metadata": {},
   "outputs": [
    {
     "data": {
      "text/html": [
       "<div>\n",
       "<style scoped>\n",
       "    .dataframe tbody tr th:only-of-type {\n",
       "        vertical-align: middle;\n",
       "    }\n",
       "\n",
       "    .dataframe tbody tr th {\n",
       "        vertical-align: top;\n",
       "    }\n",
       "\n",
       "    .dataframe thead th {\n",
       "        text-align: right;\n",
       "    }\n",
       "</style>\n",
       "<table border=\"1\" class=\"dataframe\">\n",
       "  <thead>\n",
       "    <tr style=\"text-align: right;\">\n",
       "      <th></th>\n",
       "      <th>text</th>\n",
       "      <th>pred</th>\n",
       "      <th>true</th>\n",
       "    </tr>\n",
       "  </thead>\n",
       "  <tbody>\n",
       "    <tr>\n",
       "      <th>0</th>\n",
       "      <td>москва, 25 апр - риа новости. полный состав жю...</td>\n",
       "      <td>полный состав жюри каннского объявлен</td>\n",
       "      <td>модельера жан-поля готье позвали в жюри каннск...</td>\n",
       "    </tr>\n",
       "    <tr>\n",
       "      <th>1</th>\n",
       "      <td>18 апреля в вологде стартовал двухмесячник по ...</td>\n",
       "      <td>в вологде стартовал двухмесячник по благоустро...</td>\n",
       "      <td>работники вологодского кремля очистили музей-з...</td>\n",
       "    </tr>\n",
       "    <tr>\n",
       "      <th>2</th>\n",
       "      <td>кабул, 21 апр - риа новости, андрей грешнов. к...</td>\n",
       "      <td>крупнейший афганский банк подвергнется санации...</td>\n",
       "      <td>часть активов рухнувшего kabul bank будет расп...</td>\n",
       "    </tr>\n",
       "    <tr>\n",
       "      <th>3</th>\n",
       "      <td>москва, 31 авг - риа новости. возможность сыгр...</td>\n",
       "      <td>возможность сыграть повлияла на решение кежман...</td>\n",
       "      <td>форвард кежман перешел в фк батэ из-за участия...</td>\n",
       "    </tr>\n",
       "    <tr>\n",
       "      <th>4</th>\n",
       "      <td>москва, 24 ноября - риа новости. совет федерац...</td>\n",
       "      <td>сф одобрил закон о передаче религиозным органи...</td>\n",
       "      <td>совфед одобрил нашумевший закон о передаче иму...</td>\n",
       "    </tr>\n",
       "  </tbody>\n",
       "</table>\n",
       "</div>"
      ],
      "text/plain": [
       "                                                text  \\\n",
       "0  москва, 25 апр - риа новости. полный состав жю...   \n",
       "1  18 апреля в вологде стартовал двухмесячник по ...   \n",
       "2  кабул, 21 апр - риа новости, андрей грешнов. к...   \n",
       "3  москва, 31 авг - риа новости. возможность сыгр...   \n",
       "4  москва, 24 ноября - риа новости. совет федерац...   \n",
       "\n",
       "                                                pred  \\\n",
       "0              полный состав жюри каннского объявлен   \n",
       "1  в вологде стартовал двухмесячник по благоустро...   \n",
       "2  крупнейший афганский банк подвергнется санации...   \n",
       "3  возможность сыграть повлияла на решение кежман...   \n",
       "4  сф одобрил закон о передаче религиозным органи...   \n",
       "\n",
       "                                                true  \n",
       "0  модельера жан-поля готье позвали в жюри каннск...  \n",
       "1  работники вологодского кремля очистили музей-з...  \n",
       "2  часть активов рухнувшего kabul bank будет расп...  \n",
       "3  форвард кежман перешел в фк батэ из-за участия...  \n",
       "4  совфед одобрил нашумевший закон о передаче иму...  "
      ]
     },
     "execution_count": 4,
     "metadata": {},
     "output_type": "execute_result"
    }
   ],
   "source": [
    "data.head()"
   ]
  },
  {
   "cell_type": "code",
   "execution_count": 5,
   "metadata": {},
   "outputs": [],
   "source": [
    "refs = list(data['true'])\n",
    "hyps = list(data['pred'])"
   ]
  },
  {
   "cell_type": "code",
   "execution_count": 46,
   "metadata": {},
   "outputs": [],
   "source": [
    "def calc_legacy_rouge(refs, hyps, directory=\"eval\"):\n",
    "    from pyrouge import Rouge155\n",
    "    r = Rouge155()\n",
    "    system_dir = os.path.join(directory, 'hyp')\n",
    "    model_dir = os.path.join(directory, 'ref')\n",
    "    if not os.path.isdir(system_dir):\n",
    "        os.makedirs(system_dir)\n",
    "    if not os.path.isdir(model_dir):\n",
    "        os.makedirs(model_dir)\n",
    "    r.system_dir = system_dir\n",
    "    r.model_dir = model_dir\n",
    "    r.system_filename_pattern = '(\\d+)_decoded.txt'\n",
    "    r.model_filename_pattern = '#ID#_reference.txt'\n",
    "    for i, (ref, hyp) in enumerate(zip(refs, hyps)):\n",
    "        hyp_file_path = os.path.join(r.system_dir, \"%06d_decoded.txt\" % i)\n",
    "        with open(hyp_file_path, \"w\") as w:\n",
    "            hyp_sentences = hyp.split(\" s_s \")\n",
    "            w.write(\"\\n\".join(hyp_sentences))\n",
    "        ref_file_path = os.path.join(r.model_dir, \"%06d_reference.txt\" % i)\n",
    "        with open(ref_file_path, \"w\") as w:\n",
    "            ref_sentences = ref.split(\" s_s \")\n",
    "            w.write(\"\\n\".join(ref_sentences))\n",
    "    output = r.convert_and_evaluate()\n",
    "    result = r.output_to_dict(output)\n",
    "    log_str = \"\"\n",
    "    for x in [\"1\",\"2\",\"l\"]:\n",
    "        log_str += \"\\nROUGE-%s:\\n\" % x\n",
    "        for y in [\"f_score\", \"recall\", \"precision\"]:\n",
    "            key = \"rouge_%s_%s\" % (x,y)\n",
    "            key_cb = key + \"_cb\"\n",
    "            key_ce = key + \"_ce\"\n",
    "            val = result[key]\n",
    "            val_cb = result[key_cb]\n",
    "            val_ce = result[key_ce]\n",
    "            log_str += \"%s: %.4f with confidence interval (%.4f, %.4f)\\n\" % (key, val, val_cb, val_ce)\n",
    "    return log_str\n",
    "\n",
    "\n",
    "def calc_metrics(refs, hyps):\n",
    "    print(\"Count:\", len(hyps))\n",
    "    print('Text:', data['text'].iloc[-1])\n",
    "    print(\"Ref:\", refs[-1])\n",
    "    print(\"Hyp:\", hyps[-1])\n",
    "    \n",
    "\n",
    "    from nltk.translate.bleu_score import corpus_bleu\n",
    "    print(\"BLEU: \", corpus_bleu([[r] if r is not list else r for r in refs], hyps))\n",
    "    rouge = Rouge()\n",
    "    scores = rouge.get_scores(hyps, refs, avg=True)\n",
    "    print(\"ROUGE: \", scores)"
   ]
  },
  {
   "cell_type": "code",
   "execution_count": 47,
   "metadata": {},
   "outputs": [
    {
     "name": "stdout",
     "output_type": "stream",
     "text": [
      "Count: 4266\n",
      "Text: казань, 9 янв - р-спорт, вадим кузнецов. нападающий хоккейного клуба ска илья ковальчук заявил, что он не исключает вариант, при котором он останется в кхл до окончания сезона, несмотря на завершившийся в нхл локаут. во вторник ска в казани проиграл \"ак барсу\" со счетом 1:3. ранее стало известно, что нхл и профсоюз игроков (nhlpa) достигли предварительного соглашения по новому коллективному договору. \"останусь ли я\n",
      "Ref: ковальчук не исключил, что не уедет в нхл по окончании локаута\n",
      "Hyp: хоккеист ска ковальчук не исключает вариант, при котором останется в кхл\n",
      "BLEU:  0.49222670589092754\n",
      "ROUGE:  {'rouge-1': {'f': 0.36426029765140144, 'p': 0.3949163534196342, 'r': 0.35010224317537647}, 'rouge-2': {'f': 0.19398912306529087, 'p': 0.2118364109088529, 'r': 0.1867723352076363}, 'rouge-l': {'f': 0.3352209466184624, 'p': 0.3757420710421161, 'r': 0.3330723867995289}}\n"
     ]
    }
   ],
   "source": [
    "calc_metrics(refs, hyps)"
   ]
  },
  {
   "cell_type": "code",
   "execution_count": 16,
   "metadata": {},
   "outputs": [],
   "source": [
    "n = random.randint(0, len(refs) - 1)"
   ]
  },
  {
   "cell_type": "code",
   "execution_count": 20,
   "metadata": {},
   "outputs": [
    {
     "data": {
      "text/plain": [
       "'воронеж, 22 ноя - риа новости. мокрый снег и скользкая трасса стали причиной столкновения шести автомобилей на эстакаде над парком \"динамо\" в воронеже, всего с начала дня из-за непогоды в городе произошло более 80 дтп, сообщил риа новости представитель гибдд воронежской области. \"авария произошла около 15.30 мск. какие именно автомобили столкнулись, у нас пока информации нет\", - сказал собеседник агентства. по свидетельствам очевидцев, из'"
      ]
     },
     "execution_count": 20,
     "metadata": {},
     "output_type": "execute_result"
    }
   ],
   "source": [
    "data['text'][n].replace(' ##', '')"
   ]
  },
  {
   "cell_type": "code",
   "execution_count": 21,
   "metadata": {},
   "outputs": [
    {
     "data": {
      "text/plain": [
       "'и скользкая трасса стали причиной столкновения шести автомобилей над парком \"динамо\"'"
      ]
     },
     "execution_count": 21,
     "metadata": {},
     "output_type": "execute_result"
    }
   ],
   "source": [
    "data['pred'][n].replace(' ##', '')"
   ]
  },
  {
   "cell_type": "code",
   "execution_count": 22,
   "metadata": {},
   "outputs": [
    {
     "data": {
      "text/plain": [
       "'шесть машин столкнулись в воронеже на скользкой трассе'"
      ]
     },
     "execution_count": 22,
     "metadata": {},
     "output_type": "execute_result"
    }
   ],
   "source": [
    "data['true'][n].replace(' ##', '')"
   ]
  },
  {
   "cell_type": "code",
   "execution_count": 40,
   "metadata": {},
   "outputs": [],
   "source": [
    "def get_distribution_tsv():\n",
    "    from_first_sentence_tokens_percert = []\n",
    "\n",
    "    for i in range(len(data['text'])):\n",
    "        sent_tokens = data['text'].iloc[i].split()\n",
    "        try:\n",
    "            header_end_pos = sent_tokens.index('.')\n",
    "        except:\n",
    "            continue\n",
    "\n",
    "        try:\n",
    "            first_sent = sent_tokens[header_end_pos + 1 : header_end_pos + sent_tokens[header_end_pos + 1:].index('.')]\n",
    "        except:\n",
    "            first_sent = sent_tokens[header_end_pos + 1 : -1]\n",
    "\n",
    "        pred_tokens = data['pred'].iloc[i].split()\n",
    "        token_from_first_sent_cnt = 0\n",
    "        for el in pred_tokens:\n",
    "            if el in first_sent:\n",
    "                token_from_first_sent_cnt += 1\n",
    "\n",
    "        from_first_sentence_tokens_percert.append(token_from_first_sent_cnt / len(pred_tokens))\n",
    "    \n",
    "    return from_first_sentence_tokens_percert"
   ]
  },
  {
   "cell_type": "code",
   "execution_count": 41,
   "metadata": {},
   "outputs": [],
   "source": [
    "def get_distribution_ria():\n",
    "    from_first_sentence_tokens_percert = []\n",
    "\n",
    "    for i in range(len(data['text'])):\n",
    "        sent_tokens = data['text'].iloc[i]\n",
    "        try:\n",
    "            sent_tokens = sent_tokens.split('.')[1]\n",
    "        except:\n",
    "            continue\n",
    "        first_sent = sent_tokens.split()\n",
    "\n",
    "        pred_tokens = data['pred'].iloc[i].split()\n",
    "        token_from_first_sent_cnt = 0\n",
    "        for el in pred_tokens:\n",
    "            if el in first_sent:\n",
    "                token_from_first_sent_cnt += 1\n",
    "\n",
    "        from_first_sentence_tokens_percert.append(token_from_first_sent_cnt / len(pred_tokens))\n",
    "    \n",
    "    return from_first_sentence_tokens_percert"
   ]
  },
  {
   "cell_type": "code",
   "execution_count": 42,
   "metadata": {},
   "outputs": [],
   "source": [
    "from_first_sentence_tokens_percert = get_distribution_ria()"
   ]
  },
  {
   "cell_type": "code",
   "execution_count": 43,
   "metadata": {},
   "outputs": [
    {
     "data": {
      "text/plain": [
       "0.8053666695772178"
      ]
     },
     "execution_count": 43,
     "metadata": {},
     "output_type": "execute_result"
    }
   ],
   "source": [
    "sum(from_first_sentence_tokens_percert) / len(from_first_sentence_tokens_percert)"
   ]
  },
  {
   "cell_type": "code",
   "execution_count": 44,
   "metadata": {},
   "outputs": [
    {
     "data": {
      "text/plain": [
       "0.9"
      ]
     },
     "execution_count": 44,
     "metadata": {},
     "output_type": "execute_result"
    }
   ],
   "source": [
    "sorted(from_first_sentence_tokens_percert)[len(from_first_sentence_tokens_percert)//2]"
   ]
  },
  {
   "cell_type": "code",
   "execution_count": 45,
   "metadata": {},
   "outputs": [
    {
     "data": {
      "image/png": "[encoded data removed]",
      "text/plain": [
       "<Figure size 432x288 with 1 Axes>"
      ]
     },
     "metadata": {
      "needs_background": "light"
     },
     "output_type": "display_data"
    }
   ],
   "source": [
    "plt.xlabel('Percent of tokens in prediction from first sentence')\n",
    "plt.ylabel('Number of examples')\n",
    "plt.hist(from_first_sentence_tokens_percert, 20)\n",
    "plt.show()"
   ]
  },
  {
   "cell_type": "code",
   "execution_count": null,
   "metadata": {},
   "outputs": [],
   "source": []
  }
 ],
 "metadata": {
  "kernelspec": {
   "display_name": "Python 3",
   "language": "python",
   "name": "python3"
  },
  "language_info": {
   "codemirror_mode": {
    "name": "ipython",
    "version": 3
   },
   "file_extension": ".py",
   "mimetype": "text/x-python",
   "name": "python",
   "nbconvert_exporter": "python",
   "pygments_lexer": "ipython3",
   "version": "3.7.3"
  }
 },
 "nbformat": 4,
 "nbformat_minor": 2
}
